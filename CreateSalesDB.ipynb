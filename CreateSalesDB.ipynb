{
 "cells": [
  {
   "cell_type": "code",
   "execution_count": 9,
   "id": "70435ded-29f5-41fd-be9b-4b580ae7fba3",
   "metadata": {},
   "outputs": [
    {
     "name": "stdout",
     "output_type": "stream",
     "text": [
      "Database 'sales_data.db' and table 'sales' created successfully.\n"
     ]
    }
   ],
   "source": [
    "from sqlalchemy import create_engine\n",
    "from sqlalchemy.orm import DeclarativeBase, Mapped, mapped_column, sessionmaker\n",
    "import datetime # Make sure datetime is imported\n",
    "\n",
    "# Define the base class for declarative models\n",
    "class Base(DeclarativeBase):\n",
    "    pass\n",
    "\n",
    "# Define the Sales data model\n",
    "class Sale(Base):\n",
    "    \"\"\"\n",
    "    Represents a single sales record in the database.\n",
    "    \"\"\"\n",
    "    __tablename__ = 'sales'\n",
    "\n",
    "    # Using Mapped and mapped_column for SQLAlchemy 2.0 style\n",
    "    id: Mapped[int] = mapped_column(primary_key=True)\n",
    "    sales_person: Mapped[str] = mapped_column() # String implies non-nullable by default in 2.0 Mapped[str]\n",
    "    country: Mapped[str] = mapped_column()\n",
    "    product: Mapped[str] = mapped_column()\n",
    "    date: Mapped[datetime.date] = mapped_column() # Use datetime.date for Date type\n",
    "    amount: Mapped[float] = mapped_column()\n",
    "    boxes_shipped: Mapped[int] = mapped_column()\n",
    "\n",
    "    def __repr__(self):\n",
    "        return (f\"<Sale(sales_person='{self.sales_person}', country='{self.country}', \"\n",
    "                f\"product='{self.product}', date='{self.date}', amount={self.amount}, \"\n",
    "                f\"boxes_shipped={self.boxes_shipped})>\")\n",
    "\n",
    "def create_database(db_name='sales_data.db'):\n",
    "    \"\"\"\n",
    "    Creates a SQLite database and the 'sales' table.\n",
    "\n",
    "    Args:\n",
    "        db_name (str): The name of the SQLite database file.\n",
    "    \"\"\"\n",
    "    # Create an engine that stores data in the local directory's\n",
    "    # sales_data.db file.\n",
    "    engine = create_engine(f'sqlite:///{db_name}')\n",
    "\n",
    "    # Create all tables in the Base's metadata. This will create the 'sales' table.\n",
    "    Base.metadata.create_all(engine)\n",
    "    print(f\"Database '{db_name}' and table 'sales' created successfully.\")\n",
    "\n",
    "# --- IMPORTANT: Call the function directly OUTSIDE its definition ---\n",
    "create_database()"
   ]
  },
  {
   "cell_type": "code",
   "execution_count": null,
   "id": "1d4993cc-1978-450a-9c58-0d5485f778d5",
   "metadata": {},
   "outputs": [],
   "source": []
  }
 ],
 "metadata": {
  "kernelspec": {
   "display_name": "Python 3 (ipykernel)",
   "language": "python",
   "name": "python3"
  },
  "language_info": {
   "codemirror_mode": {
    "name": "ipython",
    "version": 3
   },
   "file_extension": ".py",
   "mimetype": "text/x-python",
   "name": "python",
   "nbconvert_exporter": "python",
   "pygments_lexer": "ipython3",
   "version": "3.13.3"
  }
 },
 "nbformat": 4,
 "nbformat_minor": 5
}
